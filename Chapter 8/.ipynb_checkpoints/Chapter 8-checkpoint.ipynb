{
 "cells": [
  {
   "cell_type": "markdown",
   "metadata": {},
   "source": [
    "# 8 Tree-Based Methods"
   ]
  },
  {
   "cell_type": "markdown",
   "metadata": {},
   "source": [
    "- `Tree-Based Methods` can be used for `regression` and `classification` as well.\n",
    "\n",
    "These involve `stratifying`(aranging) or `segmenting`(classifying) the `predictor space` into a `number of simple regions`. \n",
    "\n",
    "- __In order to make a prediction for a given observation__, we typically use the `mean or the mode` of the `training observations` in the `region to which it belongs`. Since the set of splitting rules used to segment the predictor space can be `summarized` in a `tree`, these types of `approaches` are `known` as ___`decision tree` methods___.\n",
    "\n",
    "- Tree-Based Methods are useful and simple for interpretation.\n",
    "- however they're not typically competitive with the best supervised learning approaches, such as Ridge,Lasso,etc (from Chapter 6 & 7)\n",
    "    \n",
    "    Hence, __we are also introduce `Bagging`,`random forest`, and `boosting`.__\n",
    "    <br>Each of these approaches involves producing multiple trees which are then combined to yield a single consensus prediction.\n",
    "    \n",
    "<div class=\"alert alert-block alert-warning\"><b>We will see that combining a large number of trees can often result in dramatic improvements in prediction accuracy, at the expense of some loss in inter-\n",
    "pretation.</b></div>"
   ]
  },
  {
   "cell_type": "markdown",
   "metadata": {},
   "source": [
    "## 8.1 The Basics of Decision Trees"
   ]
  },
  {
   "attachments": {},
   "cell_type": "markdown",
   "metadata": {},
   "source": [
    "Can be applied to both Regression and Classification problems.\n",
    "\n",
    "<a id=\"Figure8.1\"></a>\n",
    "![image.png](Figures/Figure8.1.png)\n",
    ">__Figure 8.1.__ For the `Hitters data`, a `regression tree` for `predicting` the `log salary` of a `baseball player`, `based` on the `number of years` that `he has played` in the `major leagues` and `the number` of `hits that he made` in the `previous year`. At a `given internal node`, the label (of the form $X_{j} < t_{k} $) `indicates` the `left-hand branch` emanating from that `split`, and the `right-hand branch` corresponds to  $X_{j} \\ge t_{k} $.\n",
    "\n",
    ">For __instance,__ the `split` at the `top of the tree results` in `two large branches`. The `left-hand branch corresponds` to $Years\\lt 4.5$, and the `right-hand branch` corresponds to $Years\\ge4.5$. The tree has two internal nodes and three terminal nodes, or leaves. The number in each leaf is the mean of the response for the observations that fall there."
   ]
  },
  {
   "cell_type": "markdown",
   "metadata": {},
   "source": [
    "### 8.1.1 Regression Trees"
   ]
  },
  {
   "cell_type": "markdown",
   "metadata": {},
   "source": [
    "- To undedrstand ___`Regression Trees`___ Let's consider a simple example...\n",
    "\n",
    "#### Predicting Baseball Players’ Salaries Using Regression Trees\n",
    "\n",
    "#### Prediction via Stratification of the Feature Space\n",
    "\n",
    "#### Tree Pruning\n",
    "\n"
   ]
  },
  {
   "cell_type": "markdown",
   "metadata": {},
   "source": [
    "### 8.1.2 Classification Trees"
   ]
  },
  {
   "cell_type": "markdown",
   "metadata": {},
   "source": []
  },
  {
   "cell_type": "markdown",
   "metadata": {},
   "source": [
    "### 8.1.3 Trees Versus Linear Models"
   ]
  },
  {
   "cell_type": "markdown",
   "metadata": {},
   "source": []
  },
  {
   "cell_type": "markdown",
   "metadata": {},
   "source": [
    "### 8.1.4 Advantages and Disadvantages of Trees"
   ]
  },
  {
   "cell_type": "markdown",
   "metadata": {},
   "source": []
  },
  {
   "cell_type": "markdown",
   "metadata": {},
   "source": [
    "## 8.2 Bagging, Random Forests, Boosting"
   ]
  },
  {
   "cell_type": "markdown",
   "metadata": {},
   "source": []
  },
  {
   "cell_type": "markdown",
   "metadata": {},
   "source": [
    "### 8.2.1 Bagging"
   ]
  },
  {
   "cell_type": "markdown",
   "metadata": {},
   "source": [
    "\n",
    "#### Out-of-Bag Error Estimation\n",
    "\n",
    "\n",
    "#### Variable Importance Measures\n",
    "\n"
   ]
  },
  {
   "cell_type": "markdown",
   "metadata": {},
   "source": [
    "### 8.2.2 Random Forests"
   ]
  },
  {
   "cell_type": "markdown",
   "metadata": {},
   "source": []
  },
  {
   "cell_type": "markdown",
   "metadata": {},
   "source": [
    "### 8.2.3 Boosting"
   ]
  },
  {
   "cell_type": "markdown",
   "metadata": {},
   "source": []
  },
  {
   "cell_type": "markdown",
   "metadata": {},
   "source": []
  }
 ],
 "metadata": {
  "kernelspec": {
   "display_name": "Python 3",
   "language": "python",
   "name": "python3"
  },
  "language_info": {
   "codemirror_mode": {
    "name": "ipython",
    "version": 3
   },
   "file_extension": ".py",
   "mimetype": "text/x-python",
   "name": "python",
   "nbconvert_exporter": "python",
   "pygments_lexer": "ipython3",
   "version": "3.7.3"
  }
 },
 "nbformat": 4,
 "nbformat_minor": 2
}
