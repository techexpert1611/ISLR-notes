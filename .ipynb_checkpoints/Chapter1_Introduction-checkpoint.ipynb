{
 "cells": [
  {
   "cell_type": "markdown",
   "metadata": {},
   "source": [
    "# 1. Introduction."
   ]
  },
  {
   "cell_type": "markdown",
   "metadata": {},
   "source": [
    "### An Overview of Statastical Learning"
   ]
  },
  {
   "cell_type": "markdown",
   "metadata": {},
   "source": [
    "`Statistical learning` -> wast set of `tools` for `Understanding the Data`.\n",
    "\n",
    "__Tools__ can be classified in\n",
    "\n",
    ">**1. Supervised.**\n",
    "> - **`Supervised`** means Predicting/Estimating Output based on One or More Inputs. <br>\n",
    "> - **Application Domains:** `business`, `medicine`, `astrophysics`, and `public policy`.\n",
    "\n",
    ">**2. Un-Supervised.**\n",
    "> - **`Un-Supervised`** means there are inputs but no any supervising(Guiding/informative) output.\n",
    "> - Nevertheless we can learn the `relationship(s)` and `Structure` from such Data. \n",
    "\n"
   ]
  },
  {
   "cell_type": "markdown",
   "metadata": {},
   "source": [
    "### Wage Data\n",
    "(Wage -> A wage is monetary compensation (or remuneration, personnel expenses, labor) paid by an employer to an employee in exchange for work done.)"
   ]
  },
  {
   "cell_type": "code",
   "execution_count": null,
   "metadata": {},
   "outputs": [],
   "source": []
  }
 ],
 "metadata": {
  "kernelspec": {
   "display_name": "Python 3",
   "language": "python",
   "name": "python3"
  },
  "language_info": {
   "codemirror_mode": {
    "name": "ipython",
    "version": 3
   },
   "file_extension": ".py",
   "mimetype": "text/x-python",
   "name": "python",
   "nbconvert_exporter": "python",
   "pygments_lexer": "ipython3",
   "version": "3.7.3"
  }
 },
 "nbformat": 4,
 "nbformat_minor": 2
}
